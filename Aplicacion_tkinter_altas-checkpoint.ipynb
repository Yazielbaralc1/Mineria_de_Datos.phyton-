{
 "cells": [
  {
   "cell_type": "code",
   "execution_count": 1,
   "metadata": {},
   "outputs": [
    {
     "ename": "ModuleNotFoundError",
     "evalue": "No module named 'ADP.gui_app'",
     "output_type": "error",
     "traceback": [
      "\u001b[1;31m---------------------------------------------------------------------------\u001b[0m",
      "\u001b[1;31mModuleNotFoundError\u001b[0m                       Traceback (most recent call last)",
      "Input \u001b[1;32mIn [1]\u001b[0m, in \u001b[0;36m<cell line: 2>\u001b[1;34m()\u001b[0m\n\u001b[0;32m      1\u001b[0m \u001b[38;5;28;01mimport\u001b[39;00m \u001b[38;5;21;01mtkinter\u001b[39;00m \u001b[38;5;28;01mas\u001b[39;00m \u001b[38;5;21;01mtk\u001b[39;00m\n\u001b[1;32m----> 2\u001b[0m \u001b[38;5;28;01mfrom\u001b[39;00m \u001b[38;5;21;01mADP\u001b[39;00m\u001b[38;5;21;01m.\u001b[39;00m\u001b[38;5;21;01mgui_app\u001b[39;00m \u001b[38;5;28;01mimport\u001b[39;00m Frame\n\u001b[0;32m      4\u001b[0m \u001b[38;5;28;01mdef\u001b[39;00m \u001b[38;5;21mmain\u001b[39m():\n\u001b[0;32m      5\u001b[0m     root\u001b[38;5;241m=\u001b[39mtk\u001b[38;5;241m.\u001b[39mTk() \u001b[38;5;66;03m#Raiz de Ventana (VENTANA PRINCIPAL)\u001b[39;00m\n",
      "\u001b[1;31mModuleNotFoundError\u001b[0m: No module named 'ADP.gui_app'"
     ]
    }
   ],
   "source": [
    "import tkinter as tk\n",
    "from ADP.gui_app import Frame\n",
    "\n",
    "def main():\n",
    "    root=tk.Tk() #Raiz de Ventana (VENTANA PRINCIPAL)\n",
    "    root.title('Altas de Emeplados')\n",
    "    root.iconbitmap(r'C:\\Users\\yaziel.barbosa\\Downloads\\talisis_2.ico')\n",
    "    root.resizable(0,0)\n",
    "    \n",
    "    app= Frame(root = root)\n",
    "    # frame=tk.Frame(root) #Cramos un Objeto de tipo FRAME\n",
    "    # frame.config(width=680, height=600, bg='red')\n",
    "    # frame.pack()\n",
    "    \n",
    "    app.mainloop()\n",
    "\n",
    "#if _name_=='_main_':   \n",
    "main()"
   ]
  },
  {
   "cell_type": "code",
   "execution_count": null,
   "metadata": {},
   "outputs": [],
   "source": []
  }
 ],
 "metadata": {
  "kernelspec": {
   "display_name": "Python 3.6.13 ('py36')",
   "language": "python",
   "name": "python3"
  },
  "language_info": {
   "codemirror_mode": {
    "name": "ipython",
    "version": 3
   },
   "file_extension": ".py",
   "mimetype": "text/x-python",
   "name": "python",
   "nbconvert_exporter": "python",
   "pygments_lexer": "ipython3",
   "version": "3.6.13"
  },
  "vscode": {
   "interpreter": {
    "hash": "dd0965665265495ab4ee6bc73bff8ad46905ec6240587f192c3bd158df82a56f"
   }
  }
 },
 "nbformat": 4,
 "nbformat_minor": 2
}
