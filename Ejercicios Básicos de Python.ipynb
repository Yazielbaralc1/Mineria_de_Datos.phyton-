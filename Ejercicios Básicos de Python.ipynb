{
  "nbformat": 4,
  "nbformat_minor": 0,
  "metadata": {
    "colab": {
      "name": "Untitled.3ipynb",
      "provenance": [],
      "collapsed_sections": [],
      "include_colab_link": true
    },
    "kernelspec": {
      "display_name": "Python 3",
      "name": "python3"
    }
  },
  "cells": [
    {
      "cell_type": "markdown",
      "metadata": {
        "id": "view-in-github",
        "colab_type": "text"
      },
      "source": [
        "<a href=\"https://colab.research.google.com/github/Yazielbaralc1/Mineria_de_Datos.phyton-/blob/main/Ejercicios%20B%C3%A1sicos%20de%20Python.ipynb\" target=\"_parent\"><img src=\"https://colab.research.google.com/assets/colab-badge.svg\" alt=\"Open In Colab\"/></a>"
      ]
    },
    {
      "cell_type": "markdown",
      "metadata": {
        "id": "pvHdoyL9sIi7"
      },
      "source": [
        "EJERCICIOS PROPUESTOS A PRACTICA\n"
      ]
    },
    {
      "cell_type": "markdown",
      "metadata": {
        "id": "fTlcmz5CsTTU"
      },
      "source": [
        "Ejercicio 1:\n",
        "Realiza una variable con tu matricula y realiza una secuencia de imprimir con tu nombre y tu matricula concatenados.\n"
      ]
    },
    {
      "cell_type": "code",
      "metadata": {
        "colab": {
          "base_uri": "https://localhost:8080/"
        },
        "id": "wMY9g7qWsdCD",
        "outputId": "9ee4d9ea-84b7-4167-dc36-19a990fea6e8"
      },
      "source": [
        "matricula= 1851004\n",
        "name= \"Barbosa Alcocer Yaziel Gibran  \" \n",
        "\n",
        "print(name + str(matricula))\n",
        "\n"
      ],
      "execution_count": null,
      "outputs": [
        {
          "output_type": "stream",
          "text": [
            "Barbosa Alcocer Yaziel Gibran  1851004\n"
          ],
          "name": "stdout"
        }
      ]
    },
    {
      "cell_type": "markdown",
      "metadata": {
        "id": "1icDiynqxQ1K"
      },
      "source": [
        "Ejercicio 2:\n",
        "Pidiendo el input del usuario pide dos números y crea una pequeña calculadora con los operadores básicos de suma, resta, multiplicación, división, y exponente."
      ]
    },
    {
      "cell_type": "code",
      "metadata": {
        "colab": {
          "base_uri": "https://localhost:8080/"
        },
        "id": "0ibxrxWoxWgt",
        "outputId": "5827f5dd-e3cc-4fc1-8b42-439f93015bd5"
      },
      "source": [
        "num_1= float(input(\"Recuerde Respetar la jerarquía de los numero en la resta, divison y exponente. Introduce el numero que deseas operar: \"))\n",
        "num_2= float(input(\"Introduce el siguiente numero que deseas operar: \"))\n",
        "\n",
        "print (\"Suma = \",num_1,\"+\",num_2,\"=\", num_1+num_2)\n",
        "print (\"Resta = \",num_1,\"-\",num_2,\"=\", num_1-num_2)\n",
        "print (\"Multiplicacion = \",num_1,\"*\",num_2,\"=\", num_1*num_2)\n",
        "print (\"Division = \",num_1,\"/\",num_2,\"=\", num_1/num_2)\n",
        "print (\"Exponente = \",num_1,\"^\",num_2,\"=\", num_1**num_2)\n",
        "\n",
        "\n",
        "\n",
        "\n",
        "\n",
        "\n",
        "  "
      ],
      "execution_count": null,
      "outputs": [
        {
          "output_type": "stream",
          "text": [
            "Recuerde Respetar la jerarquía de los numero en la resta, divison y exponente. Introduce el numero que deseas operar: 1\n",
            "Introduce el siguiente numero que deseas operar: 1\n",
            "Suma =  1.0 + 1.0 = 2.0\n",
            "Resta =  1.0 - 1.0 = 0.0\n",
            "Multiplicacion =  1.0 * 1.0 = 1.0\n",
            "Division =  1.0 / 1.0 = 1.0\n",
            "Exponente =  1.0 ^ 1.0 = 1.0\n"
          ],
          "name": "stdout"
        }
      ]
    },
    {
      "cell_type": "markdown",
      "metadata": {
        "id": "DtZ5A99I1XB7"
      },
      "source": [
        "Ejercicio 3: Con loop while o for, realiza una lista de 10 numeros multiplos de 3, y después realiza una función de loop que sume todos los números dentro del arreglo."
      ]
    },
    {
      "cell_type": "code",
      "metadata": {
        "colab": {
          "base_uri": "https://localhost:8080/"
        },
        "id": "YzTt_gG91Z4B",
        "outputId": "954a5fa5-a11d-4806-8a0f-99e51a89cdf6"
      },
      "source": [
        "m=0\n",
        "suma_total=0\n",
        "_multiplos10=[] #Lista donde guardaran los multiplos\n",
        "n=1 #contador\n",
        "while n<=10:\n",
        "  mult=n*3 \n",
        "  _multiplos10.append(mult)\n",
        "  print(\"Multiplo \", n ,\"es \", _multiplos10[n-1] )\n",
        "  n=n+1\n",
        "\n",
        "while m<=9:\n",
        "  suma_total= suma_total + _multiplos10[m]\n",
        "  m=m+1\n",
        "\n",
        "print(\"La suma de la lista de múltiplos es  \", suma_total)  \n",
        "\n",
        "  \n",
        "\n",
        "\n",
        " "
      ],
      "execution_count": null,
      "outputs": [
        {
          "output_type": "stream",
          "text": [
            "Multiplo  1 es  3\n",
            "Multiplo  2 es  6\n",
            "Multiplo  3 es  9\n",
            "Multiplo  4 es  12\n",
            "Multiplo  5 es  15\n",
            "Multiplo  6 es  18\n",
            "Multiplo  7 es  21\n",
            "Multiplo  8 es  24\n",
            "Multiplo  9 es  27\n",
            "Multiplo  10 es  30\n",
            "La suma de la lista de múltiplos es   165\n"
          ],
          "name": "stdout"
        }
      ]
    },
    {
      "cell_type": "markdown",
      "metadata": {
        "id": "umVSoknADNHb"
      },
      "source": [
        "Ejercicio 4\n",
        "Con una función de if else, revisar si un número es par o es impar.\n",
        "Con una función de if else, revisar si un número es primo o no.\n",
        "\n",
        "\n",
        "\n"
      ]
    },
    {
      "cell_type": "code",
      "metadata": {
        "colab": {
          "base_uri": "https://localhost:8080/"
        },
        "id": "dkG5EeFTDftb",
        "outputId": "95868ad1-7520-469e-e4c1-259e648a8f8b"
      },
      "source": [
        "numero= int(input(\"Introduzca un número entero que desea saber si es par o impar:  \"))\n",
        "if numero%2!=0: #comprobamos el residuo del numero\n",
        "  print (\"El numero intrudcido  \", numero, \"es IMPAR \")\n",
        "else:\n",
        "  print (\"El numero introducido  \", numero, \"es PAR\") \n",
        "\n",
        "  if numero%2 !=0:\n",
        "    print(\"Es un número primo\")\n",
        "  else:\n",
        "    print(\"No es un número primo\")\n"
      ],
      "execution_count": null,
      "outputs": [
        {
          "output_type": "stream",
          "text": [
            "Introduzca un número entero que desea saber si es par o impar:  4\n",
            "El numero introducido   4 es PAR\n",
            "No es un número primo\n"
          ],
          "name": "stdout"
        }
      ]
    },
    {
      "cell_type": "markdown",
      "metadata": {
        "id": "IUdkMD57GfmI"
      },
      "source": [
        "Ejercicio 5: Utilizando diferentes clases en python, crea una calculadora con los operadores básicos de suma, resta, multiplicación, división, y exponente."
      ]
    },
    {
      "cell_type": "code",
      "metadata": {
        "colab": {
          "base_uri": "https://localhost:8080/"
        },
        "id": "-CiYETCOGjnP",
        "outputId": "f62a0b28-2676-49dd-8ea4-a8b9fb8ef87e"
      },
      "source": [
        "class calculadora:\n",
        "    def __init__(self, num1, num2):\n",
        "        self.num1 = float(num1)\n",
        "        self.num2 = float(num2)\n",
        "\n",
        "    def sumar(self):\n",
        "        suma = self.num1 + self.num2\n",
        "        print(\"el resultado de la suma es: \", suma)\n",
        "\n",
        "    def restar(self):\n",
        "        resta = self.num1 - self.num2\n",
        "        print(\"el resultado de la resta es: \", resta)\n",
        "\n",
        "    def multiplicar(self):\n",
        "        multiplicacion = self.num1 * self.num2\n",
        "        print(\"el resultado de la multiplicación es: \", multiplicacion)\n",
        "\n",
        "    def dividir(self):\n",
        "        divicion = self.num1 / self.num2\n",
        "        print(\"el resultado de la divición es: \", divicion)\n",
        "\n",
        "\n",
        "num1 = input(\"ingrese un numero: \")\n",
        "num2 = input(\"ingrese un numero: \")\n",
        "\n",
        "calculadora = calculadora(num1, num2)\n",
        "calculadora.sumar()\n",
        "calculadora.multiplicar()\n",
        "calculadora.restar()\n",
        "calculadora.dividir()"
      ],
      "execution_count": null,
      "outputs": [
        {
          "output_type": "stream",
          "text": [
            "ingrese un numero: 45\n",
            "ingrese un numero: 20\n",
            "el resultado de la suma es:  65.0\n",
            "el resultado de la multiplicación es:  900.0\n",
            "el resultado de la resta es:  25.0\n",
            "el resultado de la divición es:  2.25\n"
          ],
          "name": "stdout"
        }
      ]
    },
    {
      "cell_type": "markdown",
      "metadata": {
        "id": "pigdG-8xcXgF"
      },
      "source": [
        "Ejercicios con estructuras básicas de python.\n",
        "Tuplas\n",
        "\n",
        "Crear una variable flotante, integer, boleana y compleja e imprimir el tipo de variable que es\n"
      ]
    },
    {
      "cell_type": "code",
      "metadata": {
        "colab": {
          "base_uri": "https://localhost:8080/"
        },
        "id": "wfCD0W59cmcf",
        "outputId": "b8820b4e-dd5b-41fc-e233-ac941b4136f5"
      },
      "source": [
        "x=1.71054\n",
        "y=6\n",
        "n= False\n",
        "i=166j\n",
        "print(type(x) , type(y), type(n), type(i))\n"
      ],
      "execution_count": null,
      "outputs": [
        {
          "output_type": "stream",
          "text": [
            "<class 'float'> <class 'int'> <class 'bool'> <class 'complex'>\n"
          ],
          "name": "stdout"
        }
      ]
    },
    {
      "cell_type": "markdown",
      "metadata": {
        "id": "KBVWT3lhell7"
      },
      "source": [
        "Crear una tupla con valores enteros imprimir el primer y ultimo valor.\n",
        "\n",
        "Añadir 3 valores de string a la tupla.\n",
        "\n",
        "Verificar si una variable existe dentro de la tupla.\n"
      ]
    },
    {
      "cell_type": "code",
      "metadata": {
        "colab": {
          "base_uri": "https://localhost:8080/"
        },
        "id": "H6uLEikwkD80",
        "outputId": "92921341-6288-4e26-8980-86e6bc2c3048"
      },
      "source": [
        "tupl=[1,3,5,7,9,11]\n",
        "print(\"El primer valor de la tupla es: \", tupl[0], \"\\n El último valor de la tupla es: \", tupl[4])\n",
        "tupla.append(\"Añadiendo tres\")\n",
        "tupla.append(\"Argumentos tipo\")\n",
        "tupla.append(\"Tipo string\")\n",
        "print(tupla)\n",
        "\n",
        "\n",
        "limsup=len(tupl)\n",
        "\n",
        "for i in range(0,limsup):\n",
        "    verif=str(input(\"Ingrese el elemento que desea verificar: \"))\n",
        "    if verif==tupla[i]:\n",
        "      print(\"El elemento \", verif, \"no se encuentra en dicha tupla.\")\n",
        "    break\n",
        "else: \n",
        "      i==limsup\n",
        "      print(\"La variable \", verif, \"se encuentra en dicha dupla.\")#Queria que me imprimiera pero me revolvi maestra:("
      ],
      "execution_count": null,
      "outputs": [
        {
          "output_type": "stream",
          "text": [
            "El primer valor de la tupla es:  1 \n",
            " El último valor de la tupla es:  9\n",
            "[1, 3, 5, 7, 9, 11, 'Añadiendo tres', 'Argumentos tipo', 'Tipo string', 'Añadiendo tres', 'Argumentos tipo', 'Tipo string', 'Añadiendo tres', 'Argumentos tipo', 'Tipo string', 'Añadiendo tres', 'Argumentos tipo', 'Tipo string', 'Añadiendo tres', 'Argumentos tipo', 'Tipo string', 'Añadiendo tres', 'Argumentos tipo', 'Tipo string', 'Añadiendo tres', 'Argumentos tipo', 'Tipo string', 'Añadiendo tres', 'Argumentos tipo', 'Tipo string', 'Añadiendo tres', 'Argumentos tipo', 'Tipo string', 'Añadiendo tres', 'Argumentos tipo', 'Tipo string', 'Añadiendo tres', 'Argumentos tipo', 'Tipo string', 'Añadiendo tres', 'Argumentos tipo', 'Tipo string', 'Añadiendo tres', 'Argumentos tipo', 'Tipo string', 'Añadiendo tres', 'Argumentos tipo', 'Tipo string', 'Añadiendo tres', 'Argumentos tipo', 'Tipo string', 'Añadiendo tres', 'Argumentos tipo', 'Tipo string', 'Añadiendo tres', 'Argumentos tipo', 'Tipo string', 'Añadiendo tres', 'Argumentos tipo', 'Tipo string', 'Añadiendo tres', 'Argumentos tipo', 'Tipo string']\n",
            "Ingrese el elemento que desea verificar: 3\n"
          ],
          "name": "stdout"
        }
      ]
    },
    {
      "cell_type": "markdown",
      "metadata": {
        "id": "qANvNZzrmRmJ"
      },
      "source": [
        "Listas\n",
        "\n",
        "Crear una lista con 40 elementos aleatorios enteros.\n",
        "\n",
        "Con una funcion (def) crear dos listas nuevas a partir de la lista creada por numeros aleatorios, en la cual en una esten los elementos pares, y en la otra los elementos impares.\n",
        "\n",
        "Crear dos variables con la longitud de ambas listas nuevas e imprimir las variables.\n",
        "\n",
        "Ordenar los elementos de la lista par de mayor a menor, y los de la lista impar de menor a mayor. \n",
        "\n",
        "Utilizar al menos cuatro de las funciones de listas en python en la lista original de 40 elementos.\n",
        "\n"
      ]
    },
    {
      "cell_type": "code",
      "metadata": {
        "colab": {
          "base_uri": "https://localhost:8080/"
        },
        "id": "xG_w2FRKmZZV",
        "outputId": "ac2ec082-1b80-46d1-bb42-5fe1fc5596fe"
      },
      "source": [
        "import numpy as np\n",
        "\n",
        "m= np.random.randint(1,100,size=40)\n",
        "print(\"La lista es: \\n\",m)\n",
        "\n",
        "def nuevas_listas(m): #creacion de funcion\n",
        "    listapar=[]\n",
        "    listaimpar=[]\n",
        "\n",
        "    for i in range(1,41):\n",
        "      if lista[i-1]%2==0:\n",
        "        listapar.append(lista[i-1])\n",
        "      else:\n",
        "        listaimpar.append(lista[i-1])\n",
        "    #\n",
        "    o=len(listapar)\n",
        "    p=len(listaimpar)\n",
        "\n",
        "    listaimpar.sort()\n",
        "    return \"par= \" +str(o), listapar, \" impar\" +str(p), listaimpar\n",
        "    listapar.sort(reverse=True)\n",
        "print(\"Longitudes de las listas son: \\n\",nuevas_listas(m))\n",
        "\n",
        "m.sort()\n",
        "print(\"Lista Ordenada:\\n\",m) #ordenando elementos\n",
        "\n",
        "\n",
        "m=np.append(m,[0,0,0]) #agregando elementos\n",
        "print(\"Lista con nuevos datos:\\n\",m)\n",
        "\n",
        "\n",
        "\n"
      ],
      "execution_count": null,
      "outputs": [
        {
          "output_type": "stream",
          "text": [
            "La lista es: \n",
            " [41 15 26  4 71 27 94 97 89 80 80  5 30 62 37 88 10  6 12 49 78  6 65 93\n",
            " 63 72 32  1 89 67 39 78  6 95 20 40 90 90 24 87]\n",
            "Longitudes de las listas son: \n",
            " ('par= 20', [0, 2, 4, 6, 8, 10, 12, 14, 16, 18, 20, 22, 24, 26, 28, 30, 32, 34, 36, 38], ' impar20', [1, 3, 5, 7, 9, 11, 13, 15, 17, 19, 21, 23, 25, 27, 29, 31, 33, 35, 37, 39])\n",
            "Lista Ordenada:\n",
            " [ 1  4  5  6  6  6 10 12 15 20 24 26 27 30 32 37 39 40 41 49 62 63 65 67\n",
            " 71 72 78 78 80 80 87 88 89 89 90 90 93 94 95 97]\n",
            "Lista con nuevos datos:\n",
            " [ 1  4  5  6  6  6 10 12 15 20 24 26 27 30 32 37 39 40 41 49 62 63 65 67\n",
            " 71 72 78 78 80 80 87 88 89 89 90 90 93 94 95 97  0  0  0]\n"
          ],
          "name": "stdout"
        }
      ]
    },
    {
      "cell_type": "markdown",
      "metadata": {
        "id": "4UZZsO2f2re1"
      },
      "source": [
        "Diccionarios\n",
        "\n",
        "Crear un diccionario de 6 personas que conozcas con su primer nombre y su edad.\n",
        "\n",
        "Crear una lista con los valores de la edad y reacomodar la lista de menor a mayor valor. \n",
        "\n",
        "Usando el diccionario y un loop, imprimir solo los nombres.\n",
        "\n",
        "Añadir dos personas nuevas a tu diccionario, incluyendo edad."
      ]
    },
    {
      "cell_type": "code",
      "metadata": {
        "colab": {
          "base_uri": "https://localhost:8080/"
        },
        "id": "VKBzfy2G2ydN",
        "outputId": "a31e1063-1251-4780-c38d-7edc8810885c"
      },
      "source": [
        "\n",
        "dicc={'Karen':19,'Aldo':20, 'Tere':51, 'Sofia':19, 'Carlos':20,'Orlando':20}\n",
        "print(\"Su diccionario es: \\n\",dicc)\n",
        "names=list(zip(dicc.keys()))\n",
        "ages=list(zip(dicc.values()))\n",
        "ordenados=sorted(ages) #Para ordenar caulquier iterable\n",
        "print(\"Lista de edades: \\n\",ordenados)\n",
        "\n",
        "for name in dicc.keys():\n",
        "  print(name)\n",
        "\n",
        "dicc['Luisa']=21\n",
        "dicc['Santos']=21\n",
        "\n",
        "print(\"Nuevo diccionario\\n\",dicc)\n",
        "\n",
        "\n",
        "\n",
        "\n",
        "\n"
      ],
      "execution_count": 35,
      "outputs": [
        {
          "output_type": "stream",
          "text": [
            "Su diccionario es: \n",
            " {'Karen': 19, 'Aldo': 20, 'Tere': 51, 'Sofia': 19, 'Carlos': 20, 'Orlando': 20}\n",
            "Lista de edades: \n",
            " [(19,), (19,), (20,), (20,), (20,), (51,)]\n",
            "Karen\n",
            "Aldo\n",
            "Tere\n",
            "Sofia\n",
            "Carlos\n",
            "Orlando\n",
            "Nuevo diccionario\n",
            " {'Karen': 19, 'Aldo': 20, 'Tere': 51, 'Sofia': 19, 'Carlos': 20, 'Orlando': 20, 'Luisa': 21, 'Santos': 21}\n"
          ],
          "name": "stdout"
        }
      ]
    },
    {
      "cell_type": "markdown",
      "metadata": {
        "id": "EFqzEGiEbaES"
      },
      "source": [
        "Sets\n",
        "Crea un set con 100 numeros aleatorios enteros del 1 al 25.\n",
        "\n",
        "Comprueba la longitud de tu set.\n",
        "\n",
        "Crea una lista de 5 numeros aleatorios del 1 al 10 y comprueba si cada valor aparece en el set inicial."
      ]
    },
    {
      "cell_type": "code",
      "metadata": {
        "id": "0ZVNsYq4bbdk",
        "outputId": "b1c3ec42-58ca-450d-c60c-a1a341ebcf5c",
        "colab": {
          "base_uri": "https://localhost:8080/"
        }
      },
      "source": [
        "import random \n",
        "set_num={0,0}\n",
        "set_num.clear\n",
        "\n",
        "for i in range(1,101):\n",
        "  set_num.add(random.randint(1,25)) #Agregamos a nuestro set la funcon de crar numero aleatorios con parametros del 1 al 25\n",
        "print(\"El se esta compuesto por: \\n\",set_num)\n",
        "print(\"Con una longitud de\",len(set_num), \"caracteres.\")\n",
        "\n",
        "list5=[]\n",
        "for i in range(0,5):\n",
        "  list5.append(random.randint(1,10))\n",
        "\n",
        "for i in range(0,5):\n",
        "  if list5[i] in set_num:\n",
        "    print(\"El numero\", list5[i],\"existe en el main set\")\n",
        "else:\n",
        "  print(\"El numero\", list5[i], \"no existe en el main set\")\n",
        "\n",
        "\n",
        "  "
      ],
      "execution_count": 53,
      "outputs": [
        {
          "output_type": "stream",
          "text": [
            "El se esta compuesto por: \n",
            " {0, 1, 2, 3, 4, 5, 6, 7, 8, 9, 10, 11, 12, 13, 14, 15, 16, 17, 18, 19, 20, 21, 22, 23, 24, 25}\n",
            "Con una longitud de 26 caracteres.\n",
            "El numero 10 existe en el main set\n",
            "El numero 8 existe en el main set\n",
            "El numero 6 existe en el main set\n",
            "El numero 10 existe en el main set\n",
            "El numero 5 existe en el main set\n",
            "El numero 5 no existe en el main set\n"
          ],
          "name": "stdout"
        }
      ]
    }
  ]
}