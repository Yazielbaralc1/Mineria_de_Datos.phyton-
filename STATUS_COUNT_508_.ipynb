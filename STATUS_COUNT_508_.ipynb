{
 "cells": [
  {
   "cell_type": "code",
   "execution_count": 1,
   "metadata": {},
   "outputs": [
    {
     "ename": "NameError",
     "evalue": "name 'a' is not defined",
     "output_type": "error",
     "traceback": [
      "\u001b[1;31m---------------------------------------------------------------------------\u001b[0m",
      "\u001b[1;31mNameError\u001b[0m                                 Traceback (most recent call last)",
      "\u001b[1;32mc:\\Users\\yazie\\OneDrive\\Documentos\\PYTHON\\Altas-Empleados\\.ipynb_checkpoints\\STATUS_COUNT_508_.ipynb Celda 1\u001b[0m in \u001b[0;36m<cell line: 17>\u001b[1;34m()\u001b[0m\n\u001b[0;32m     <a href='vscode-notebook-cell:/c%3A/Users/yazie/OneDrive/Documentos/PYTHON/Altas-Empleados/.ipynb_checkpoints/STATUS_COUNT_508_.ipynb#W0sZmlsZQ%3D%3D?line=14'>15</a>\u001b[0m df\u001b[39m=\u001b[39mpd\u001b[39m.\u001b[39mread_excel(\u001b[39mr\u001b[39m\u001b[39m'\u001b[39m\u001b[39mC:\u001b[39m\u001b[39m\\\u001b[39m\u001b[39mUsers\u001b[39m\u001b[39m\\\u001b[39m\u001b[39myazie\u001b[39m\u001b[39m\\\u001b[39m\u001b[39mDownloads\u001b[39m\u001b[39m\\\u001b[39m\u001b[39mfACTURAS A CONTRARECIBO.xlsx\u001b[39m\u001b[39m'\u001b[39m,engine\u001b[39m=\u001b[39m\u001b[39m'\u001b[39m\u001b[39mopenpyxl\u001b[39m\u001b[39m'\u001b[39m,sheet_name\u001b[39m=\u001b[39m\u001b[39m0\u001b[39m,header\u001b[39m=\u001b[39m\u001b[39m0\u001b[39m)\n\u001b[0;32m     <a href='vscode-notebook-cell:/c%3A/Users/yazie/OneDrive/Documentos/PYTHON/Altas-Empleados/.ipynb_checkpoints/STATUS_COUNT_508_.ipynb#W0sZmlsZQ%3D%3D?line=16'>17</a>\u001b[0m \u001b[39mfor\u001b[39;00m j \u001b[39min\u001b[39;00m \u001b[39mrange\u001b[39m(\u001b[39mlen\u001b[39m(df)):\n\u001b[1;32m---> <a href='vscode-notebook-cell:/c%3A/Users/yazie/OneDrive/Documentos/PYTHON/Altas-Empleados/.ipynb_checkpoints/STATUS_COUNT_508_.ipynb#W0sZmlsZQ%3D%3D?line=17'>18</a>\u001b[0m     \u001b[39mprint\u001b[39m(df\u001b[39m.\u001b[39miloc[a,\u001b[39m0\u001b[39m])\n\u001b[0;32m     <a href='vscode-notebook-cell:/c%3A/Users/yazie/OneDrive/Documentos/PYTHON/Altas-Empleados/.ipynb_checkpoints/STATUS_COUNT_508_.ipynb#W0sZmlsZQ%3D%3D?line=18'>19</a>\u001b[0m     \u001b[39mprint\u001b[39m(df\u001b[39m.\u001b[39miloc[a,\u001b[39m1\u001b[39m])\n\u001b[0;32m     <a href='vscode-notebook-cell:/c%3A/Users/yazie/OneDrive/Documentos/PYTHON/Altas-Empleados/.ipynb_checkpoints/STATUS_COUNT_508_.ipynb#W0sZmlsZQ%3D%3D?line=19'>20</a>\u001b[0m     serie\u001b[39m=\u001b[39mdf\u001b[39m.\u001b[39miloc[a,\u001b[39m0\u001b[39m]\n",
      "\u001b[1;31mNameError\u001b[0m: name 'a' is not defined"
     ]
    }
   ],
   "source": [
    "from selenium import webdriver\n",
    "from selenium.webdriver.common.keys import Keys\n",
    "from selenium.webdriver.firefox.options import Options\n",
    "import time, json\n",
    "from webdriver_manager.firefox import GeckoDriverManager\n",
    "import os\n",
    "import sys\n",
    "from selenium.webdriver.common.by import By\n",
    "import pandas as pd\n",
    "from tkinter import messagebox\n",
    "from selenium.webdriver.common.alert import Alert \n",
    "from selenium.common.exceptions import NoSuchElementException\n",
    "\n",
    "\n",
    "df=pd.read_excel(r'C:\\Users\\yazie\\Downloads\\fACTURAS A CONTRARECIBO.xlsx',engine='openpyxl',sheet_name=0,header=0)\n",
    "\n",
    "for j in range(len(df)):\n",
    "    print(df.iloc[a,0])\n",
    "    print(df.iloc[a,1])\n",
    "    serie=df.iloc[a,0]\n",
    "    serie=str (serie)\n",
    "    folio=df.iloc[a,1]\n",
    "    folio=str(folio)\n",
    "\n",
    "    \n",
    "   "
   ]
  }
 ],
 "metadata": {
  "kernelspec": {
   "display_name": "Python 3.9.12 ('base')",
   "language": "python",
   "name": "python3"
  },
  "language_info": {
   "codemirror_mode": {
    "name": "ipython",
    "version": 3
   },
   "file_extension": ".py",
   "mimetype": "text/x-python",
   "name": "python",
   "nbconvert_exporter": "python",
   "pygments_lexer": "ipython3",
   "version": "3.9.12"
  },
  "orig_nbformat": 4,
  "vscode": {
   "interpreter": {
    "hash": "ad2bdc8ecc057115af97d19610ffacc2b4e99fae6737bb82f5d7fb13d2f2c186"
   }
  }
 },
 "nbformat": 4,
 "nbformat_minor": 2
}
