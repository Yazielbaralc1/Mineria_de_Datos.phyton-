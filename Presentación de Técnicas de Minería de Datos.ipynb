{
  "nbformat": 4,
  "nbformat_minor": 0,
  "metadata": {
    "colab": {
      "name": "Untitled1.ipynb",
      "provenance": [],
      "collapsed_sections": [],
      "include_colab_link": true
    },
    "kernelspec": {
      "name": "python3",
      "display_name": "Python 3"
    },
    "language_info": {
      "name": "python"
    }
  },
  "cells": [
    {
      "cell_type": "markdown",
      "metadata": {
        "id": "view-in-github",
        "colab_type": "text"
      },
      "source": [
        "<a href=\"https://colab.research.google.com/github/Yazielbaralc1/Mineria_de_Datos.phyton-/blob/main/Presentaci%C3%B3n%20de%20T%C3%A9cnicas%20de%20Miner%C3%ADa%20de%20Datos.ipynb\" target=\"_parent\"><img src=\"https://colab.research.google.com/assets/colab-badge.svg\" alt=\"Open In Colab\"/></a>"
      ]
    },
    {
      "cell_type": "code",
      "metadata": {
        "id": "xoasHuCMEPaC"
      },
      "source": [
        "import pandas as pd\n",
        "import numpy as np\n",
        "import seaborn as sns\n",
        "import matplotlib.pyplot as plt\n",
        "from sklearn import linear_model\n",
        "from sklearn.metrics import mean_squared_error\n",
        "from sklearn.linear_model import LinearRegression\n",
        "\n",
        "datos=pd.read_csv(\"winemag-data_first150k.csv\")\n",
        "precio=datos['price']\n",
        "nuevo=datos[['price','points']]\n",
        "\n",
        "\n",
        "\n",
        "\n",
        "\n"
      ],
      "execution_count": 208,
      "outputs": []
    },
    {
      "cell_type": "code",
      "metadata": {
        "id": "TBxpvRuDu7a1",
        "colab": {
          "base_uri": "https://localhost:8080/"
        },
        "outputId": "876b5d69-a0c8-4388-c3ae-cb8bd0b2d1eb"
      },
      "source": [
        "precio.head(30)\n",
        "\n"
      ],
      "execution_count": 215,
      "outputs": [
        {
          "output_type": "execute_result",
          "data": {
            "text/plain": [
              "0     235.0\n",
              "1     110.0\n",
              "2      90.0\n",
              "3      65.0\n",
              "4      66.0\n",
              "5      73.0\n",
              "6      65.0\n",
              "7     110.0\n",
              "8      65.0\n",
              "9      60.0\n",
              "10     80.0\n",
              "11     48.0\n",
              "12     48.0\n",
              "13     90.0\n",
              "14    185.0\n",
              "15     90.0\n",
              "16    325.0\n",
              "17     80.0\n",
              "18    290.0\n",
              "19     75.0\n",
              "20     24.0\n",
              "21     79.0\n",
              "22    220.0\n",
              "23     60.0\n",
              "24     45.0\n",
              "25     57.0\n",
              "26     62.0\n",
              "27    105.0\n",
              "28     60.0\n",
              "29     60.0\n",
              "Name: price, dtype: float64"
            ]
          },
          "metadata": {},
          "execution_count": 215
        }
      ]
    },
    {
      "cell_type": "code",
      "metadata": {
        "colab": {
          "base_uri": "https://localhost:8080/",
          "height": 297
        },
        "id": "7_7t-UXVkyWW",
        "outputId": "421258d5-e5c6-4bba-ebc0-972d53f1f080"
      },
      "source": [
        "\n",
        "nuevo.head(200).plot.scatter(x=\"price\",y=\"points\")"
      ],
      "execution_count": 217,
      "outputs": [
        {
          "output_type": "execute_result",
          "data": {
            "text/plain": [
              "<matplotlib.axes._subplots.AxesSubplot at 0x7f9df09a9fd0>"
            ]
          },
          "metadata": {},
          "execution_count": 217
        },
        {
          "output_type": "display_data",
          "data": {
            "image/png": "[encoded data removed]",
            "text/plain": [
              "<Figure size 432x288 with 1 Axes>"
            ]
          },
          "metadata": {}
        }
      ]
    },
    {
      "cell_type": "code",
      "metadata": {
        "colab": {
          "base_uri": "https://localhost:8080/"
        },
        "id": "uhim_z6tx5zn",
        "outputId": "585a2263-40ef-4b90-c3cb-f0906446e8f6"
      },
      "source": [
        "reg= LinearRegression()\n",
        "nuevo=nuevo.dropna()\n",
        "reg.fit(nuevo[[\"price\"]],nuevo[\"points\"])\n",
        "reg.coef_*nuevo[\"price\"]+reg.intercept_"
      ],
      "execution_count": 165,
      "outputs": [
        {
          "output_type": "execute_result",
          "data": {
            "text/plain": [
              "0         96.021783\n",
              "1         90.923251\n",
              "2         90.107486\n",
              "3         89.087780\n",
              "4         89.128568\n",
              "            ...    \n",
              "150925    87.252308\n",
              "150926    87.537826\n",
              "150927    87.252308\n",
              "150928    88.557532\n",
              "150929    87.048367\n",
              "Name: price, Length: 137235, dtype: float64"
            ]
          },
          "metadata": {},
          "execution_count": 165
        }
      ]
    },
    {
      "cell_type": "code",
      "metadata": {
        "colab": {
          "base_uri": "https://localhost:8080/",
          "height": 422
        },
        "id": "MkKZcZByC4MK",
        "outputId": "e60f9846-ce7a-4360-e771-e5f5482b03dd"
      },
      "source": [
        "pred=pd.Series(reg.predict(nuevo[[\"price\"]]))\n",
        "nuevo[\"prediction\"]=pred\n",
        "nuevo\n",
        "\n"
      ],
      "execution_count": 166,
      "outputs": [
        {
          "output_type": "execute_result",
          "data": {
            "text/html": [
              "<div>\n",
              "<style scoped>\n",
              "    .dataframe tbody tr th:only-of-type {\n",
              "        vertical-align: middle;\n",
              "    }\n",
              "\n",
              "    .dataframe tbody tr th {\n",
              "        vertical-align: top;\n",
              "    }\n",
              "\n",
              "    .dataframe thead th {\n",
              "        text-align: right;\n",
              "    }\n",
              "</style>\n",
              "<table border=\"1\" class=\"dataframe\">\n",
              "  <thead>\n",
              "    <tr style=\"text-align: right;\">\n",
              "      <th></th>\n",
              "      <th>price</th>\n",
              "      <th>points</th>\n",
              "      <th>prediction</th>\n",
              "    </tr>\n",
              "  </thead>\n",
              "  <tbody>\n",
              "    <tr>\n",
              "      <th>0</th>\n",
              "      <td>235.0</td>\n",
              "      <td>96</td>\n",
              "      <td>96.021783</td>\n",
              "    </tr>\n",
              "    <tr>\n",
              "      <th>1</th>\n",
              "      <td>110.0</td>\n",
              "      <td>96</td>\n",
              "      <td>90.923251</td>\n",
              "    </tr>\n",
              "    <tr>\n",
              "      <th>2</th>\n",
              "      <td>90.0</td>\n",
              "      <td>96</td>\n",
              "      <td>90.107486</td>\n",
              "    </tr>\n",
              "    <tr>\n",
              "      <th>3</th>\n",
              "      <td>65.0</td>\n",
              "      <td>96</td>\n",
              "      <td>89.087780</td>\n",
              "    </tr>\n",
              "    <tr>\n",
              "      <th>4</th>\n",
              "      <td>66.0</td>\n",
              "      <td>95</td>\n",
              "      <td>89.128568</td>\n",
              "    </tr>\n",
              "    <tr>\n",
              "      <th>...</th>\n",
              "      <td>...</td>\n",
              "      <td>...</td>\n",
              "      <td>...</td>\n",
              "    </tr>\n",
              "    <tr>\n",
              "      <th>150925</th>\n",
              "      <td>20.0</td>\n",
              "      <td>91</td>\n",
              "      <td>NaN</td>\n",
              "    </tr>\n",
              "    <tr>\n",
              "      <th>150926</th>\n",
              "      <td>27.0</td>\n",
              "      <td>91</td>\n",
              "      <td>NaN</td>\n",
              "    </tr>\n",
              "    <tr>\n",
              "      <th>150927</th>\n",
              "      <td>20.0</td>\n",
              "      <td>91</td>\n",
              "      <td>NaN</td>\n",
              "    </tr>\n",
              "    <tr>\n",
              "      <th>150928</th>\n",
              "      <td>52.0</td>\n",
              "      <td>90</td>\n",
              "      <td>NaN</td>\n",
              "    </tr>\n",
              "    <tr>\n",
              "      <th>150929</th>\n",
              "      <td>15.0</td>\n",
              "      <td>90</td>\n",
              "      <td>NaN</td>\n",
              "    </tr>\n",
              "  </tbody>\n",
              "</table>\n",
              "<p>137235 rows × 3 columns</p>\n",
              "</div>"
            ],
            "text/plain": [
              "        price  points  prediction\n",
              "0       235.0      96   96.021783\n",
              "1       110.0      96   90.923251\n",
              "2        90.0      96   90.107486\n",
              "3        65.0      96   89.087780\n",
              "4        66.0      95   89.128568\n",
              "...       ...     ...         ...\n",
              "150925   20.0      91         NaN\n",
              "150926   27.0      91         NaN\n",
              "150927   20.0      91         NaN\n",
              "150928   52.0      90         NaN\n",
              "150929   15.0      90         NaN\n",
              "\n",
              "[137235 rows x 3 columns]"
            ]
          },
          "metadata": {},
          "execution_count": 166
        }
      ]
    },
    {
      "cell_type": "code",
      "metadata": {
        "colab": {
          "base_uri": "https://localhost:8080/",
          "height": 297
        },
        "id": "ZpndtW_2HWe_",
        "outputId": "7103879c-c192-49df-ad24-d708c32212cb"
      },
      "source": [
        "ax=nuevo.head(30).plot.line(x=\"price\",y=\"prediction\")\n",
        "nuevo.head(200).plot.scatter(x=\"price\",y=\"points\", ax= ax,color=\"#2d0c62\")"
      ],
      "execution_count": 190,
      "outputs": [
        {
          "output_type": "execute_result",
          "data": {
            "text/plain": [
              "<matplotlib.axes._subplots.AxesSubplot at 0x7f9e158ccb50>"
            ]
          },
          "metadata": {},
          "execution_count": 190
        },
        {
          "output_type": "display_data",
          "data": {
            "image/png": "[encoded data removed]",
            "text/plain": [
              "<Figure size 432x288 with 1 Axes>"
            ]
          },
          "metadata": {}
        }
      ]
    },
    {
      "cell_type": "code",
      "metadata": {
        "colab": {
          "base_uri": "https://localhost:8080/",
          "height": 283
        },
        "id": "0nDd3EnpN-Dg",
        "outputId": "a6179543-9530-421f-92d1-85bf64c49cf1"
      },
      "source": [
        "nuevo.head(50).prediction.plot.density()"
      ],
      "execution_count": 198,
      "outputs": [
        {
          "output_type": "execute_result",
          "data": {
            "text/plain": [
              "<matplotlib.axes._subplots.AxesSubplot at 0x7f9e159e52d0>"
            ]
          },
          "metadata": {},
          "execution_count": 198
        },
        {
          "output_type": "display_data",
          "data": {
            "image/png": "[encoded data removed]",
            "text/plain": [
              "<Figure size 432x288 with 1 Axes>"
            ]
          },
          "metadata": {}
        }
      ]
    },
    {
      "cell_type": "code",
      "metadata": {
        "colab": {
          "base_uri": "https://localhost:8080/",
          "height": 283
        },
        "id": "7a_1i3WuQSwj",
        "outputId": "3be3f4b0-54bc-4f73-c6b7-178b2a7768d6"
      },
      "source": [
        "nuevo.head(50).price.plot.density()"
      ],
      "execution_count": 199,
      "outputs": [
        {
          "output_type": "execute_result",
          "data": {
            "text/plain": [
              "<matplotlib.axes._subplots.AxesSubplot at 0x7f9e161d1a50>"
            ]
          },
          "metadata": {},
          "execution_count": 199
        },
        {
          "output_type": "display_data",
          "data": {
            "image/png": "[encoded data removed]",
            "text/plain": [
              "<Figure size 432x288 with 1 Axes>"
            ]
          },
          "metadata": {}
        }
      ]
    }
  ]
}