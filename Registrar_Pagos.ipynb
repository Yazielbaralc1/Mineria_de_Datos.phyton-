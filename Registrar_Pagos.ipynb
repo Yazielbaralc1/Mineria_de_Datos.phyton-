{
 "cells": [
  {
   "cell_type": "code",
   "execution_count": null,
   "metadata": {},
   "outputs": [],
   "source": [
    "from turtle import goto\n",
    "from selenium import webdriver\n",
    "from selenium.webdriver.common.keys import Keys\n",
    "from selenium.webdriver.firefox.options import Options\n",
    "import time, json\n",
    "from webdriver_manager.firefox import GeckoDriverManager\n",
    "import os\n",
    "import sys\n",
    "from selenium.webdriver.common.by import By\n",
    "import pandas as pd\n",
    "from tkinter import messagebox\n",
    "from selenium.webdriver.common.alert import Alert \n",
    "from selenium.common.exceptions import NoSuchElementException\n",
    "from selenium.common.exceptions import TimeoutException\n",
    "from selenium.webdriver.support.ui import WebDriverWait\n",
    "from selenium.webdriver.support import expected_conditions as EC\n",
    "\n",
    "os.path.dirname(sys.executable)\n",
    "\n",
    "from time import sleep \n",
    "from selenium import webdriver\n",
    "# esto se prueba en Firefox o puede usar el navegador \"webdriver.Chrome()\" \n",
    "browser = webdriver.Firefox(executable_path=r'C:\\Users\\yazie\\OneDrive\\Documentos\\PYTHON\\Altas-Empleados\\geckodriver.exe')\n",
    "browser.get('http://www.eraindefleet.com/TPB')\n",
    "\n",
    "#DATOS LOG IN\n",
    "user= 'YBARBOSA'\n",
    "psw= 'Ybarbosa_22'\n",
    "timeout=120\n",
    "\n",
    "usuario= browser.find_element(By.XPATH, '//*[@id=\"usuario\"]')\n",
    "usuario.send_keys(user)\n",
    "contraseña= browser.find_element(By.XPATH,'//*[@id=\"contrasena\"]')\n",
    "contraseña.send_keys(psw)\n",
    "\n",
    "click_login= browser.find_element(By.XPATH,'//*[@id=\"Button1\"]')\n",
    "click_login.click()\n",
    "\n",
    "#Entramos a menú\n",
    "click_cxc= browser.find_element(By.XPATH,'/html/body/form/div[5]/div/ul/li[6]/a')\n",
    "click_cxc.click()\n",
    "sleep(3)\n",
    "#Boton Desplegable\n",
    "click_cobranza=browser.find_element(By.XPATH,'/html/body/form/div[6]/div/div[2]/ul[10]/li/a')\n",
    "click_cobranza.click()\n",
    "sleep(3)\n",
    "\n"
   ]
  }
 ],
 "metadata": {
  "kernelspec": {
   "display_name": "Python 3.6.13 ('py36')",
   "language": "python",
   "name": "python3"
  },
  "language_info": {
   "name": "python",
   "version": "3.6.13"
  },
  "orig_nbformat": 4,
  "vscode": {
   "interpreter": {
    "hash": "dd0965665265495ab4ee6bc73bff8ad46905ec6240587f192c3bd158df82a56f"
   }
  }
 },
 "nbformat": 4,
 "nbformat_minor": 2
}
